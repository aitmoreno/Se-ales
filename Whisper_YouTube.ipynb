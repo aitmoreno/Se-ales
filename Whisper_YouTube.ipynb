{
  "nbformat": 4,
  "nbformat_minor": 0,
  "metadata": {
    "colab": {
      "provenance": [],
      "gpuType": "T4"
    },
    "kernelspec": {
      "name": "python3",
      "display_name": "Python 3"
    },
    "language_info": {
      "name": "python"
    },
    "accelerator": "GPU"
  },
  "cells": [
    {
      "cell_type": "code",
      "execution_count": null,
      "metadata": {
        "id": "XoYh339zQZZ_"
      },
      "outputs": [],
      "source": [
        "#Whisper Test\n",
        "#https://medium.com/nlplanet/transcribing-youtube-videos-with-whisper-in-a-few-lines-of-code-f57f27596a55"
      ]
    },
    {
      "cell_type": "code",
      "source": [
        "!pip install git+https://github.com/openai/whisper.git\n",
        "!pip install pytube"
      ],
      "metadata": {
        "colab": {
          "base_uri": "https://localhost:8080/"
        },
        "id": "y31M1TmUQhaC",
        "outputId": "2cbc5635-37ac-424e-d90c-e056e5ad2c3e"
      },
      "execution_count": null,
      "outputs": [
        {
          "output_type": "stream",
          "name": "stdout",
          "text": [
            "Collecting git+https://github.com/openai/whisper.git\n",
            "  Cloning https://github.com/openai/whisper.git to /tmp/pip-req-build-9049qnh3\n",
            "  Running command git clone --filter=blob:none --quiet https://github.com/openai/whisper.git /tmp/pip-req-build-9049qnh3\n",
            "  Resolved https://github.com/openai/whisper.git to commit 0a60fcaa9b86748389a656aa013c416030287d47\n",
            "  Installing build dependencies ... \u001b[?25l\u001b[?25hdone\n",
            "  Getting requirements to build wheel ... \u001b[?25l\u001b[?25hdone\n",
            "  Preparing metadata (pyproject.toml) ... \u001b[?25l\u001b[?25hdone\n",
            "Requirement already satisfied: triton==2.0.0 in /usr/local/lib/python3.10/dist-packages (from openai-whisper==20230918) (2.0.0)\n",
            "Requirement already satisfied: numba in /usr/local/lib/python3.10/dist-packages (from openai-whisper==20230918) (0.56.4)\n",
            "Requirement already satisfied: numpy in /usr/local/lib/python3.10/dist-packages (from openai-whisper==20230918) (1.23.5)\n",
            "Requirement already satisfied: torch in /usr/local/lib/python3.10/dist-packages (from openai-whisper==20230918) (2.0.1+cu118)\n",
            "Requirement already satisfied: tqdm in /usr/local/lib/python3.10/dist-packages (from openai-whisper==20230918) (4.66.1)\n",
            "Requirement already satisfied: more-itertools in /usr/local/lib/python3.10/dist-packages (from openai-whisper==20230918) (10.1.0)\n",
            "Collecting tiktoken==0.3.3 (from openai-whisper==20230918)\n",
            "  Downloading tiktoken-0.3.3-cp310-cp310-manylinux_2_17_x86_64.manylinux2014_x86_64.whl (1.7 MB)\n",
            "\u001b[2K     \u001b[90m━━━━━━━━━━━━━━━━━━━━━━━━━━━━━━━━━━━━━━━━\u001b[0m \u001b[32m1.7/1.7 MB\u001b[0m \u001b[31m21.9 MB/s\u001b[0m eta \u001b[36m0:00:00\u001b[0m\n",
            "\u001b[?25hRequirement already satisfied: regex>=2022.1.18 in /usr/local/lib/python3.10/dist-packages (from tiktoken==0.3.3->openai-whisper==20230918) (2023.6.3)\n",
            "Requirement already satisfied: requests>=2.26.0 in /usr/local/lib/python3.10/dist-packages (from tiktoken==0.3.3->openai-whisper==20230918) (2.31.0)\n",
            "Requirement already satisfied: cmake in /usr/local/lib/python3.10/dist-packages (from triton==2.0.0->openai-whisper==20230918) (3.27.6)\n",
            "Requirement already satisfied: filelock in /usr/local/lib/python3.10/dist-packages (from triton==2.0.0->openai-whisper==20230918) (3.12.4)\n",
            "Requirement already satisfied: lit in /usr/local/lib/python3.10/dist-packages (from triton==2.0.0->openai-whisper==20230918) (17.0.2)\n",
            "Requirement already satisfied: llvmlite<0.40,>=0.39.0dev0 in /usr/local/lib/python3.10/dist-packages (from numba->openai-whisper==20230918) (0.39.1)\n",
            "Requirement already satisfied: setuptools in /usr/local/lib/python3.10/dist-packages (from numba->openai-whisper==20230918) (67.7.2)\n",
            "Requirement already satisfied: typing-extensions in /usr/local/lib/python3.10/dist-packages (from torch->openai-whisper==20230918) (4.5.0)\n",
            "Requirement already satisfied: sympy in /usr/local/lib/python3.10/dist-packages (from torch->openai-whisper==20230918) (1.12)\n",
            "Requirement already satisfied: networkx in /usr/local/lib/python3.10/dist-packages (from torch->openai-whisper==20230918) (3.1)\n",
            "Requirement already satisfied: jinja2 in /usr/local/lib/python3.10/dist-packages (from torch->openai-whisper==20230918) (3.1.2)\n",
            "Requirement already satisfied: charset-normalizer<4,>=2 in /usr/local/lib/python3.10/dist-packages (from requests>=2.26.0->tiktoken==0.3.3->openai-whisper==20230918) (3.3.0)\n",
            "Requirement already satisfied: idna<4,>=2.5 in /usr/local/lib/python3.10/dist-packages (from requests>=2.26.0->tiktoken==0.3.3->openai-whisper==20230918) (3.4)\n",
            "Requirement already satisfied: urllib3<3,>=1.21.1 in /usr/local/lib/python3.10/dist-packages (from requests>=2.26.0->tiktoken==0.3.3->openai-whisper==20230918) (2.0.6)\n",
            "Requirement already satisfied: certifi>=2017.4.17 in /usr/local/lib/python3.10/dist-packages (from requests>=2.26.0->tiktoken==0.3.3->openai-whisper==20230918) (2023.7.22)\n",
            "Requirement already satisfied: MarkupSafe>=2.0 in /usr/local/lib/python3.10/dist-packages (from jinja2->torch->openai-whisper==20230918) (2.1.3)\n",
            "Requirement already satisfied: mpmath>=0.19 in /usr/local/lib/python3.10/dist-packages (from sympy->torch->openai-whisper==20230918) (1.3.0)\n",
            "Building wheels for collected packages: openai-whisper\n",
            "  Building wheel for openai-whisper (pyproject.toml) ... \u001b[?25l\u001b[?25hdone\n",
            "  Created wheel for openai-whisper: filename=openai_whisper-20230918-py3-none-any.whl size=798399 sha256=60ebcadf3f267dd3efe5c1830efef2a0c90246b8717dc09f66ffa98fadf3bbde\n",
            "  Stored in directory: /tmp/pip-ephem-wheel-cache-6trlhvhb/wheels/8b/6c/d0/622666868c179f156cf595c8b6f06f88bc5d80c4b31dccaa03\n",
            "Successfully built openai-whisper\n",
            "Installing collected packages: tiktoken, openai-whisper\n",
            "Successfully installed openai-whisper-20230918 tiktoken-0.3.3\n",
            "Collecting pytube\n",
            "  Downloading pytube-15.0.0-py3-none-any.whl (57 kB)\n",
            "\u001b[2K     \u001b[90m━━━━━━━━━━━━━━━━━━━━━━━━━━━━━━━━━━━━━━━━\u001b[0m \u001b[32m57.6/57.6 kB\u001b[0m \u001b[31m1.5 MB/s\u001b[0m eta \u001b[36m0:00:00\u001b[0m\n",
            "\u001b[?25hInstalling collected packages: pytube\n",
            "Successfully installed pytube-15.0.0\n"
          ]
        }
      ]
    },
    {
      "cell_type": "code",
      "source": [
        "import pytube as pt\n",
        "import whisper"
      ],
      "metadata": {
        "id": "Mg2bZ3HPQttK"
      },
      "execution_count": null,
      "outputs": []
    },
    {
      "cell_type": "code",
      "source": [
        "# download mp3 from youtube video (Two Minute Papers)\n",
        "yt = pt.YouTube(\"https://www.youtube.com/watch?v=dd1kN_myNDs\")\n",
        "stream = yt.streams.filter(only_audio=True)[0]\n",
        "stream.download(filename=\"audio_english.mp3\")"
      ],
      "metadata": {
        "colab": {
          "base_uri": "https://localhost:8080/",
          "height": 35
        },
        "id": "ilhBvXRDQjZh",
        "outputId": "6f8ed721-ceda-4c55-e890-b09dd0e750cc"
      },
      "execution_count": null,
      "outputs": [
        {
          "output_type": "execute_result",
          "data": {
            "text/plain": [
              "'/content/audio_english.mp3'"
            ],
            "application/vnd.google.colaboratory.intrinsic+json": {
              "type": "string"
            }
          },
          "metadata": {},
          "execution_count": 4
        }
      ]
    },
    {
      "cell_type": "code",
      "source": [
        "model = whisper.load_model(\"large\")"
      ],
      "metadata": {
        "colab": {
          "base_uri": "https://localhost:8080/"
        },
        "id": "H17IDjDHQx4s",
        "outputId": "e04701f5-3d36-4088-db36-e2e227354c49"
      },
      "execution_count": null,
      "outputs": [
        {
          "output_type": "stream",
          "name": "stderr",
          "text": [
            "100%|█████████████████████████████████████| 2.87G/2.87G [00:48<00:00, 63.3MiB/s]\n"
          ]
        }
      ]
    },
    {
      "cell_type": "code",
      "source": [
        "result = model.transcribe(\"audio_english.mp3\")\n",
        "print(result[\"text\"])"
      ],
      "metadata": {
        "colab": {
          "base_uri": "https://localhost:8080/"
        },
        "id": "rNUvqAiiQ0wx",
        "outputId": "39e7582c-1e74-4063-837c-fd676a988717"
      },
      "execution_count": null,
      "outputs": [
        {
          "output_type": "stream",
          "name": "stdout",
          "text": [
            " Dear Fellow Scholars, this is Two Minute Papers with Károly Zsolnai-Fehér. There are many AI techniques that are able to look at a still image and identify objects, textures, human poses and object parts in them really well. However, in the age of the internet, we have videos everywhere, so an important question would be how we could do the same for these animations. One of the key ideas in this paper is that the frames of these videos are not completely independent, and they share a lot of information, so, after we make our initial predictions on what is where exactly, these predictions from the previous frame can almost always be reused with a little modification. Not only that, but here you can see with these results that it can also deal with momentary occlusions and is ready to track objects that rotate over time. A key part of this method is that one, it looks back and forth in these videos to update these labels, and second, it learns in a self-supervised manner, which means that all it is given is just a little more than data, and was never given a nice dataset with explicit labels of these regions and object parts that it could learn from. You can see in this comparison table that this is not the only method that works for videos, the paper contains ample comparisons against other methods and comes out ahead of all other unsupervised methods, and on this task, it can even get quite close to supervised methods. The supervised methods are the ones that have access to these cushy labeled datasets and therefore should come out way ahead. But they don't, which sounds like witchcraft, considering that this technique is learning on its own. However, all this greatness comes with limitations. One of the bigger ones is that even though it does extremely well, it also plateaus, meaning that we don't see a great deal of improvement if we add more training data. Now whether this is because it is doing nearly as well as it is humanly or computerly possible, or because a more general problem formulation is still possible remains a question. I hope we find out soon. Thanks for watching and for your generous support, and I'll see you next time!\n"
          ]
        }
      ]
    },
    {
      "cell_type": "code",
      "source": [
        "# download mp3 from youtube video (Breaking Italy)\n",
        "yt = pt.YouTube(\"https://www.youtube.com/watch?v=4KI9BBW_aP8\")\n",
        "stream = yt.streams.filter(only_audio=True)[0]\n",
        "stream.download(filename=\"audio_italian.mp3\")"
      ],
      "metadata": {
        "colab": {
          "base_uri": "https://localhost:8080/",
          "height": 35
        },
        "id": "3YtnCApqRBi6",
        "outputId": "6209d842-5f49-45f8-a12a-142176611f66"
      },
      "execution_count": null,
      "outputs": [
        {
          "output_type": "execute_result",
          "data": {
            "text/plain": [
              "'/content/audio_italian.mp3'"
            ],
            "application/vnd.google.colaboratory.intrinsic+json": {
              "type": "string"
            }
          },
          "metadata": {},
          "execution_count": 7
        }
      ]
    },
    {
      "cell_type": "code",
      "source": [
        "result = model.transcribe(\"audio_italian.mp3\")\n",
        "print(result[\"text\"])"
      ],
      "metadata": {
        "colab": {
          "base_uri": "https://localhost:8080/"
        },
        "id": "MHxUoqEBRFE4",
        "outputId": "2d898572-6d95-4d0a-e7eb-4f584a0011e3"
      },
      "execution_count": null,
      "outputs": [
        {
          "output_type": "stream",
          "name": "stdout",
          "text": [
            " Hey, dopo una settimana di pausa forzata ricominciamo anche con Breaking Italy, che come vi avevo preannunciato sarà per qualche giorno in versione light, una versione alleggerita per così dire. E quindi, è evidente, non ho ora lo spazio per dire tutto quello che vorrei dire sui nuovi ministri e il governo che dovrà ricevere la fiducia delle Camere domani. Per quello vi rimando alla puntata di Grandi Linee di oggi, o ancora meglio, se volete sentirmi blatterare per un'ora dei nuovi ministri, c'è un video dedicato, link in descrizione. Ma c'è un aspetto sul quale vorrei soffermarmi un attimo più nel dettaglio, così che non si dica che facciano le cose con superficialità, tanto per farle, e anche perché l'argomento mi interessa a dire il vero. Cioè, Crosetto, neo-ministro della difesa, è sant'anche neo-ministro del turismo. Parliamone un attimo. Sto volando sulla parte che mi allontana ideologicamente da queste persone, che per quanto possa parlarne bene o male rimangono politici di destra, con una visione del mondo di destra, che faranno e diranno cose di destra, quindi niente da stupirsi, su questi due nuovi ministri in particolare si è salevata una questione, cioè il buon vecchio conflitto di interesse. Quanto occupare una delle posizioni apicali nell'organizzazione della nostra società, quindi un ministero, possono andare in conflitto con le loro precedenti attività. L'esempio più tipico che abbiamo è Silvio Berlusconi, che faceva il premier, ma aveva un mondo di interessi personali. Crosetto ha due carriere che si sono mosse più o meno in parallelo con Stop and Go, sia ai suoi ruoli politici che non. Ed in particolare sono tre le questioni che destano all'arma. La sua azienda di consulenza per il settore armamenti, il fatto di essere stato presidente di un'associazione di confindustria, l'AIAD, che raccoglie aziende strategiche sempre nel settore armamenti, è presidente di Orizzonte Sistemi Navali, una joint venture tra Leonardo e Fincantieri, quindi due colossi del settore, e indovinate un po', sempre legata a tecnologie belliche e armamenti. Quello è il suo spazio, diciamo. Saint-Anne e lo stesso modo imprenditrice, ma in settori diversi, come la pubblicità. Ma ha interessi in un sacco di roba, in realtà, ed è principalmente nota nella sua vesta imprenditoriale come una delle proprietarie del Twiga, una sorta di ristorante disco club in una spiaggia a Forte dei Marmi in Toscana. Attività che da alcune ricerche su internet mi sembra di aver capito andare piuttosto bene, si parla di svariati milioni di fatturato, quindi insomma è un'imprenditrice e di successo. Ora, a Crosetto, che andava dicendo sino a qualche giorno prima che fosse da escludere un suo coinvolgimento in un ministero, ma in più occasioni, e lo diceva proprio a tutti, è stato assegnato il ministero per la difesa, mentre a Saint-Anne-Caix quello per il turismo. E ovviamente ci sono state delle perplessità, tanto più che mentre Crosetto ha annunciato di voler liquidare tutte le sue attività, dimettendosi dalle sue cariche di presidente e addirittura chiudendo la sua azienda di consulenze che giustisce con la moglie e il figlio, Saint-Anne-Caix non ha detto niente di tutto questo. Ora, qual è il problema, se c'è un problema? Per rispondere a questa domanda bisogna prima porsene un'altra, ed è cosa esattamente faccia un consulente. Perché io prima di fare l'imprenditore questa cosa non la capivo. Un consulente è usile per due ragioni. Uno, sa fare delle cose che tu non sai fare, e due, conosce delle persone che tu non conosci. Che è un po' il punto di equilibrio su quale ci posizioniamo in questi casi. Crosetto infatti, indubitabilmente, sulla carta ha un buon ministro, perché ha l'esperienza politica, ha l'esperienza da sottosegretario della difesa, ha l'esperienza nel mondo degli armamenti. E come consulente e presidente delle aziende che ha presieduto, si è senza dubbio fatto una rete di persone e di conoscenze piuttosto ampia, che è paradossalmente una delle ragioni per le quali tanto abbiamo apprezzato Draghi, anche se su volumi diversi e in abiti diversi. Perché è conosciuto e conosce gente. Io stesso ora, se ho bisogno di qualcosa nel mio campo, ho un minimo di carte da giocarmi o dei numeri da chiamare, perché collaborando, facendo, esplorando, conosci altre persone che stanno nello stesso spazio che occupi tu. È stessa cosa, probabilmente, Sant'Anche. Nel mondo del turismo qualcuno conoscerà, per dire, due contatti, un po' di esperienza, l'avrà senz'altro maturata, e quindi saprà di cosa hanno bisogno gli imprenditori, gli operatori del settore, i lavoratori stagionali, eccetera. Questo è chiaro. Ma qui parlavamo di punto di equilibrio, però, perché i ministeri, i ministri, prendono decisioni importantissime. Quello della difesa addirittura strategica. Non si tratta solo di investimenti miliardari, spesso, ma di scelte che poi cambiano le tue capacità militari, i rapporti internazionali. Sono questioni delicate. E la paura è, appunto, che le persone che occupano quelle posizioni utilizzino quel potere per favorire le loro imprese. Quindi, banalmente, tenere bassi i costi per gli imprenditori a balneare, o favorire gli investimenti a forte dei marmi, che ne so. E se non loro stessi, i loro amici, i loro conoscenti, le persone con le quali hanno strutto dei legami. Perché quando gestisci del potere, le persone sono estremamente contente di poter non solo bussare alla tua porta, ma mandarti un messaggino e chiederti, quando possibile, favori, piccoli o grandi. Perché è quella la forza di un network. Non tanto essere i più bravi a fare qualcosa, ma essere in una rete e avere accesso a qualcuno che può valorizzare quel qualcosa. È proprio il senso del network. La cosa antipatica da dire, ma dobbiamo dirla perché Breaking Italy funziona così, è che così va il mondo. Non c'è scampo a questa cosa qui. Le cose funzionano in questo modo. E il punto è, infatti, che io non lo so se ci saranno possibili conflitti di interesse. Alcuni giornali dicono di sì, loro ovviamente dicono di no. Nel caso la magistratura farà il suo corso, dicono quelli bravi. Ma quello che vorrei passasse è quanto non semplice sia la scelta di un ministro in tal senso, specialmente nel caso di Crosetto, che effettivamente si smarca dai conflitti più palesi liberandosi dalle sue aziende. Perché l'alternativa è mettere qualcuno, tipo Luigi Di Maio, pensate, qualcuno che mette in un ministero che non conosce e che per forza di cose, siccome non conosce quell'ambiente, farà qualche pasticcio, farà delle cose che non capisce esattamente cosa stiano facendo, se non molto più avanti nel suo percorso, chiamerà il presidente cinese il signor Ping. Insomma, c'è un equilibrio da trovare, c'è un equilibrio da trovare che non è esattamente così semplice. O perlomeno è semplice a guardarlo dall'esterno, ma solo perché noi non abbiamo l'onere di dover fare questa scelta. Bentornati e bentornati su Breaking Italy. Mi chiedo se questa sarà la parte che ho vissuto tantissime volte di cambio di governo e quindi di commenti che diranno che sto diventando filo governativo, filo meloniano, filo chissà che. Spostiamoci nel frattempo in Cina però dal signor Ping, perché è stato sabato scorso il momento in cui si è concluso il ventesimo congresso del Partito Comunista Cinese, che si svolge ogni cinque anni, raccoglie migliaia di rappresentanti del partito e ha il compito di nominarne i dirigenti ed è stato convocato per la guida del prossimo quinquennio, quindi sino al 2027. Ora, per completezza, proviamo a capire meglio come il congresso è strutturato e ciò che ha contraddistinto questa edizione. Perché è importante? Perché è la Cina? Dunque, ogni lustro, ogni cinque anni, il congresso raccoglie 2300 dei circa 97 milioni di membri del partito e questo perché si tratta essenzialmente dell'unico reale partito attivo nel paese. Nel senso che alcuni partiti minori ci sono anche ma non hanno praticamente nessuna voce in capitolo, sono allineati al PCC e comunque proprio la Costituzione ad escludere qualsiasi altro tipo di organizzazione politica che non sia quella socialista, quindi c'è poco da fare ai fenomeni, insomma. Ora, essendo la Cina monopartitica, possiamo dire, questo congresso è principalmente uno strumento per fare entrare in politica nuove figure, fare i rimpasti, assegnare ruoli e la nomina avviene così. Si tratta sostanzialmente di un sistema di rappresentanze a forma di piramide, per cui i 2300 partecipanti nominano un comitato generale che in teoria li rappresenta e questo comitato sceglie a sua volta i componenti che andranno nella dirigenza esecutiva, dirigenza di cui fa parte anche il politburo, di 25 membri potentissimi che alla loro volta nominano il comitato permanente, ossia la leadership del partito, compreso il segretario generale che è appunto Xi Jinping. Se però queste sono informazioni generali sul congresso, le procedure standard potremmo dire, come c'è nata questa edizione riporta alcune particolarità, perché dopo Mao Zedong infatti si era istituita la regola che qualsiasi leader cinese non potesse rimanere in carica per più di due mandati quinquennali, quindi dieci anni, decade che quindi nel caso di Xi adesso sarebbe dovuta decadere, proprio quest'anno essendo stato eletto nel 2012. Tuttavia il congresso ha fidato a Xi un terzo mandato, rendendolo così il leader più longevo e anche più potente, ci arriviamo dai tempi di Mao. Inatteso? No. Nel 2017 infatti, quindi quando ci fu il secondo congresso dove fu nominato segretario, il leader non inserì nel comitato permanente nessun componente che avesse a suo dire le credenziali per divenire effettivamente segretario, facendo intendere di non avere intenzione di alzarsi dalla sedia. Nessun successore. E questa cosa era però stata ufficializzata poi nel fatto che giusto l'anno dopo, nel 2018, era stato approvato un emendamento costituzionale che aveva del tutto rimosso questa clausola, permettendogli fatto a Xi di essere confermato anche a questo giro. Quindi benissimo, ma cos'altro è stato deciso durante questa settimana congressuale? Cosa sappiamo esattamente? Come accennato il fine primario del congresso è quello di rinnovare i dirigenti del partito e anche qui il presidente Xi ha fatto le sue mosse per assicurarsi il maggior consenso possibile dentro il comitato permanente, scegliendo delle persone a lui molto vicine, quelli che giornalisticamente vengono definiti fedelissimi. Tra questi individui le testate parlano parecchio della seconda testa del comitato dopo Xi, cioè Li Kuihang, che dovrebbe peraltro diventare premier il prossimo marzo, sostituendo così Li Keqiang, l'attuale primo ministro. E tutto ciò non fa altro che accentuare sempre di più la stretta del presidente sulle maniglie del potere, perché crea un rapporto di scambio. Tu dai ai tuoi fedelissimi dei posti di assoluto prestigio e quelli in teoria accettano che tu faccia un po' come ti pare, ti crei la tua bolla sicura, diciamo, così come fanno tutti i dittatori del mondo. Soprattutto se si aspettano dei tempi tumultuosi. Altro tema degno di nota è infatti quello di Taiwan. Sabato scorso è emerso molto chiaramente come la questione dell'indipendenza di Taipei sia uno dei punti chiave della svolta impresa da Xi al suo terzo mandato. E questo perché durante il congresso è passata una risoluzione con cui il concetto stesso di ostacolarne e contenere l'indipendenza è stato inserito nella Costituzione del partito, con una risoluzione votata da migliaia di delegati che ne ha emendato il testo. Ora, le modifiche alla Costituzione del partito, che di fatto è il documento che rappresenta i valori del partito, quelli fondanti, sono in realtà comuni, è proprio un testo che viene emendato e aggiornato di continuo ogni congresso. E infatti vi ricorderete se era molto parlato delle modifiche avvenute nel 2017, quando l'attuale presidente vi fece inserire la filosofia politica di Xi Jinping, cioè il suo pensiero, per quanto il nome fosse una roba molto complicata, ma il suo pensiero è lì, proprio per assicurarsi di essere vicino ai più grandi leader del partito, come ad esempio Mao. È proprio una questione di posizionamento. In questo caso specifico però è un fatto particolarmente rilevante perché di fatto pone come una delle basi fondanti del partito l'opposizione all'indipendenza di Taiwan, segnale della possibilità che la Cina possa restringere di molto la finestra temporale per un intervento militare nei confonti dell'isola. Possibilità su che gli Stati Uniti nello specifico hanno posto l'accento sin dall'anno scorso, supponendo come limite temporale il 2027, anche se di recente fonti interne alla marina statunitense, riportate dalle Financial Times, restringerebbero al 2023, quindi all'anno prossimo, l'ipotesi che avvenga questo intervento militare. Ora, ovviamente si parla di ricostruzioni, nessuno lo sa e anzi ci sono persino analisti che ritengono questa finestra essere esagerata, anche irresponsabile, che ovviamente genera un certo livello di allarmismo. Tanto più che, si dice, queste ipotesi non sono legate a informazioni di intelligence, non è che abbiamo registrato sci tipo Berlusconi che parla di invasioni all'Ambrusco, ma sono valutazioni legate a quando la Cina avrebbe avuto la capacità materiale di lanciare l'attacco, perché un conto insomma è poterlo fare fisicamente, essere pronti a livello militare, un'altra cosa è quello di essere politicamente pronti al gesto, ma non è da escludere, evidentemente. L'ultimo segno molto importante dell'ulteriore spinta autoritaria di Xi Jinping, su cui vale la pena concentrarsi, è quello che è successo sempre sabato durante la sessione conclusiva della riunione del congresso, quando l'ex leader del paese, Hu Jintao, è stato scortato via dalla riunione in maniera piuttosto concitata. Avrete probabilmente visto le immagini. Il video è circolato parecchio in tutta la stampa ed è stato lungamente analizzato e vede Hu sedere alla sinistra di Xi e all'inizio l'uomo che si appresta a scortarlo via sembra quasi volerlo sollevare di peso, con Hu, un uomo molto anziano, che inizialmente resiste, sembra un po' confuso, come se non capisse bene cosa stia accadendo, ma che alla fine si alza e viene velocemente portato via dalla sala, scambiando prima qualche parola con Xi Jinping, che a malapena lo guarda e gli risponde. E' tutto con Li Qiang, l'attuale primo ministro, alla sua destra e il resto delle persone presenti che stanno immobili mentre l'ex leader viene portato via. Non si muovono di un millimetro. Ora, la giustificazione fornita dalle agenzie di Stato cinesi è che Hu sia stato in qualche modo scortato perché si è sentito male, ma l'interpretazione è che la maggior parte degli analisti ritengono essere più probabile, anche a letto delle reazioni che vediamo nel video, è che la mostra sia stata di natura politica, cioè un modo di permettere alla stampa internazionale, a cui era appena stato concesso di entrare nella sala, quindi un tempismo interessante, di registrare la presa di posizione di Xi sull'operato del suo predecessore, che è considerato come debole e non abbastanza concentrato sulla sicurezza nazionale. Insomma, un modo per mandare un messaggio a noi, ovviamente, ai governi internazionali per imporsi in maniera netta come inizio del nuovo corso del partito, quindi non più di apertura, moderazione e collaborazione, ma di controllo, di sovranità e di fermezza. E' un mostrare i muscoli, un classico del mostrare i muscoli. Come ovvio, la verità non la sapremo probabilmente mai, così come non sapremo mai se ciò a cui abbiamo assistito sia stata una manifestazione coreografata e pianificata nel dettaglio o se è davvero ci sia stata una componente legata almeno in parte alla salute fisica e mentale di Hu Jintao, che abbia quindi richiesto un intervento diretto e non previsto. Quello che però sappiamo è che si tratta dell'ennesima svolta storica per la leadership del partito, con le immagini di Hu Anziano che sembra appellarsi in van a Xi, mentre lui lo guarda facendo finta di niente, che rappresentano in qualche modo un'era, un passaggio, un momento della Cina che finisce, che si chiude. Diciamo che questo è un altro di quei tassellini che stiamo componendo in questo enorme mosaico che componiamo da anni, tassellino dopo tassellino dopo tassellino, e che un giorno guardandolo da una distanza probabilmente ci aiuteranno a comporre l'immagine che in questo momento è estremamente difficile riuscire a vedere. Perché ci siamo in mezzo. Perché ci siamo in mezzo. E questo era tutto per oggi, grazie per aver guardato, come vi ho detto puntata più breve del solito, ci teniamo così ancora per qualche giorno, abbiate pazienza, state con noi. Veloce ringraziamento per tutti quelli che stanno riempiendo il teatro Carcano. Stiamo riempiendo la balconata di sopra, il teatro stesso si è detto super stupito di questa cosa qua, quindi mi raccomando se voleste essere presenti, 31 ottobre, io e Luca Sofi, il direttore del post, sul palco, si parla di tutto, anche della sua carriera, qualche biglietto è ancora disponibile, pochi? Però ci sono. Dai, a domani!\n"
          ]
        }
      ]
    },
    {
      "cell_type": "code",
      "source": [
        "model."
      ],
      "metadata": {
        "id": "9RrxV_NGSZaT"
      },
      "execution_count": null,
      "outputs": []
    }
  ]
}